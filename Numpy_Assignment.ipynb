{
  "nbformat": 4,
  "nbformat_minor": 0,
  "metadata": {
    "colab": {
      "provenance": [],
      "authorship_tag": "ABX9TyPwDgfw9vlwTlfO+rLNjvHC",
      "include_colab_link": true
    },
    "kernelspec": {
      "name": "python3",
      "display_name": "Python 3"
    },
    "language_info": {
      "name": "python"
    }
  },
  "cells": [
    {
      "cell_type": "markdown",
      "metadata": {
        "id": "view-in-github",
        "colab_type": "text"
      },
      "source": [
        "<a href=\"https://colab.research.google.com/github/JayeshSandhikar/CloudyML_Assignments_Solved_Jayesh/blob/main/Numpy_Assignment.ipynb\" target=\"_parent\"><img src=\"https://colab.research.google.com/assets/colab-badge.svg\" alt=\"Open In Colab\"/></a>"
      ]
    },
    {
      "cell_type": "code",
      "execution_count": 1,
      "metadata": {
        "id": "Rt1AdT_MLhGP"
      },
      "outputs": [],
      "source": [
        "import numpy as np"
      ]
    },
    {
      "cell_type": "code",
      "source": [
        "np"
      ],
      "metadata": {
        "colab": {
          "base_uri": "https://localhost:8080/"
        },
        "id": "sEs__r9FL4Q6",
        "outputId": "5bbedee1-a086-415a-8af6-c7071530a58f"
      },
      "execution_count": 2,
      "outputs": [
        {
          "output_type": "execute_result",
          "data": {
            "text/plain": [
              "<module 'numpy' from '/usr/local/lib/python3.10/dist-packages/numpy/__init__.py'>"
            ]
          },
          "metadata": {},
          "execution_count": 2
        }
      ]
    },
    {
      "cell_type": "code",
      "source": [
        "s = np.array(5)"
      ],
      "metadata": {
        "id": "yYbOfTq9L5WX"
      },
      "execution_count": 3,
      "outputs": []
    },
    {
      "cell_type": "code",
      "source": [
        "s.dtype"
      ],
      "metadata": {
        "colab": {
          "base_uri": "https://localhost:8080/"
        },
        "id": "KaSzFjlMMFnK",
        "outputId": "9dc7961c-6cc6-46a3-d09e-7345bdc001d0"
      },
      "execution_count": 6,
      "outputs": [
        {
          "output_type": "execute_result",
          "data": {
            "text/plain": [
              "dtype('int64')"
            ]
          },
          "metadata": {},
          "execution_count": 6
        }
      ]
    },
    {
      "cell_type": "code",
      "source": [
        "print"
      ],
      "metadata": {
        "colab": {
          "base_uri": "https://localhost:8080/"
        },
        "id": "WzJDgzJCMGJr",
        "outputId": "63c27181-9b2e-45f9-c7eb-b405323de2ba"
      },
      "execution_count": 7,
      "outputs": [
        {
          "output_type": "execute_result",
          "data": {
            "text/plain": [
              "<function print>"
            ]
          },
          "metadata": {},
          "execution_count": 7
        }
      ]
    },
    {
      "cell_type": "code",
      "source": [
        "np.ndim(s)"
      ],
      "metadata": {
        "colab": {
          "base_uri": "https://localhost:8080/"
        },
        "id": "tYToeVx5MYP5",
        "outputId": "1340fe5a-3532-4564-ce04-7f102ae4d0e9"
      },
      "execution_count": 8,
      "outputs": [
        {
          "output_type": "execute_result",
          "data": {
            "text/plain": [
              "0"
            ]
          },
          "metadata": {},
          "execution_count": 8
        }
      ]
    },
    {
      "cell_type": "code",
      "source": [
        "a = [2,5,3,8,9,6,8,5,88,5,5,5,8,5,5]"
      ],
      "metadata": {
        "id": "BLhMCexvMa35"
      },
      "execution_count": 16,
      "outputs": []
    },
    {
      "cell_type": "code",
      "source": [
        "\n",
        "a"
      ],
      "metadata": {
        "colab": {
          "base_uri": "https://localhost:8080/"
        },
        "id": "LY7bgQQWMoa2",
        "outputId": "c8e23987-2b7f-426f-9fcf-48f7f2e8ba20"
      },
      "execution_count": 12,
      "outputs": [
        {
          "output_type": "execute_result",
          "data": {
            "text/plain": [
              "[2, 5, 3, 8, 9, 6, 8, 5, 88, 5, 5, 5, 8, 5, 5]"
            ]
          },
          "metadata": {},
          "execution_count": 12
        }
      ]
    },
    {
      "cell_type": "code",
      "source": [
        " np.array(a)"
      ],
      "metadata": {
        "colab": {
          "base_uri": "https://localhost:8080/"
        },
        "id": "444sRKMIMozZ",
        "outputId": "adb4dc18-ab5e-429c-cae6-b50baf005d5c"
      },
      "execution_count": 13,
      "outputs": [
        {
          "output_type": "execute_result",
          "data": {
            "text/plain": [
              "array([ 2,  5,  3,  8,  9,  6,  8,  5, 88,  5,  5,  5,  8,  5,  5])"
            ]
          },
          "metadata": {},
          "execution_count": 13
        }
      ]
    },
    {
      "cell_type": "code",
      "source": [
        "np.ndim(a)"
      ],
      "metadata": {
        "colab": {
          "base_uri": "https://localhost:8080/"
        },
        "id": "JMtmYokcMz3e",
        "outputId": "60a15652-fb45-4370-d514-197b6304fe6d"
      },
      "execution_count": 15,
      "outputs": [
        {
          "output_type": "execute_result",
          "data": {
            "text/plain": [
              "1"
            ]
          },
          "metadata": {},
          "execution_count": 15
        }
      ]
    },
    {
      "cell_type": "code",
      "source": [
        "v = [[1,3,5,4],[8,9,7,8]]"
      ],
      "metadata": {
        "id": "58oo5vIHM7fl"
      },
      "execution_count": 17,
      "outputs": []
    },
    {
      "cell_type": "code",
      "source": [
        "b = np.array(v)"
      ],
      "metadata": {
        "id": "LeAyhbI8NWEW"
      },
      "execution_count": 19,
      "outputs": []
    },
    {
      "cell_type": "code",
      "source": [
        "b"
      ],
      "metadata": {
        "colab": {
          "base_uri": "https://localhost:8080/"
        },
        "id": "4YjfemjVNnwe",
        "outputId": "1f18853d-8f39-42b2-a855-9a0761e60c53"
      },
      "execution_count": 20,
      "outputs": [
        {
          "output_type": "execute_result",
          "data": {
            "text/plain": [
              "array([[1, 3, 5, 4],\n",
              "       [8, 9, 7, 8]])"
            ]
          },
          "metadata": {},
          "execution_count": 20
        }
      ]
    },
    {
      "cell_type": "code",
      "source": [
        "np.ndim(b)"
      ],
      "metadata": {
        "colab": {
          "base_uri": "https://localhost:8080/"
        },
        "id": "mfItGRR-NoOl",
        "outputId": "cf48783b-66c2-426b-a8d7-c3d3181565e4"
      },
      "execution_count": 21,
      "outputs": [
        {
          "output_type": "execute_result",
          "data": {
            "text/plain": [
              "2"
            ]
          },
          "metadata": {},
          "execution_count": 21
        }
      ]
    },
    {
      "cell_type": "code",
      "source": [
        "m = [[[5,5,5,],[999,999,999],[777,777,777,],[855,855,85]],[[978,254,666],[214,548,789],[5895,57895,224789654],[888,888,8]]]"
      ],
      "metadata": {
        "id": "oXaDrztMN0yi"
      },
      "execution_count": 39,
      "outputs": []
    },
    {
      "cell_type": "code",
      "source": [
        "np.array(m)"
      ],
      "metadata": {
        "colab": {
          "base_uri": "https://localhost:8080/"
        },
        "id": "1S_V5CjcOXQL",
        "outputId": "fad9c7ca-8909-4aaa-9b50-430ad42d0bb7"
      },
      "execution_count": 37,
      "outputs": [
        {
          "output_type": "execute_result",
          "data": {
            "text/plain": [
              "array([[[        5,         5,         5],\n",
              "        [      999,       999,       999],\n",
              "        [      777,       777,       777],\n",
              "        [      855,       855,        85]],\n",
              "\n",
              "       [[      978,       254,       666],\n",
              "        [      214,       548,       789],\n",
              "        [     5895,     57895, 224789654],\n",
              "        [      888,       888,         8]]])"
            ]
          },
          "metadata": {},
          "execution_count": 37
        }
      ]
    },
    {
      "cell_type": "code",
      "source": [
        "np.ndim(m)"
      ],
      "metadata": {
        "colab": {
          "base_uri": "https://localhost:8080/"
        },
        "id": "KoE9wMuBOfZi",
        "outputId": "293b829f-0b21-44c1-cee1-20a437b3e3a6"
      },
      "execution_count": 38,
      "outputs": [
        {
          "output_type": "execute_result",
          "data": {
            "text/plain": [
              "3"
            ]
          },
          "metadata": {},
          "execution_count": 38
        }
      ]
    },
    {
      "cell_type": "code",
      "source": [],
      "metadata": {
        "id": "gHBGGfqpOknu"
      },
      "execution_count": null,
      "outputs": []
    }
  ]
}